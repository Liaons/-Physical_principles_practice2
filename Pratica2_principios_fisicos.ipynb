{
  "nbformat": 4,
  "nbformat_minor": 0,
  "metadata": {
    "colab": {
      "provenance": [],
      "collapsed_sections": [
        "Sta-AtdNKgXJ",
        "n8Akca1i8Cg9"
      ],
      "mount_file_id": "1snzoHdVbRaAaYu51-cuZkuW5wXjJHRoB",
      "authorship_tag": "ABX9TyNSdtBwZgoFLGdJk6lZSZfM",
      "include_colab_link": true
    },
    "kernelspec": {
      "name": "python3",
      "display_name": "Python 3"
    },
    "language_info": {
      "name": "python"
    }
  },
  "cells": [
    {
      "cell_type": "markdown",
      "metadata": {
        "id": "view-in-github",
        "colab_type": "text"
      },
      "source": [
        "<a href=\"https://colab.research.google.com/github/Liaons/py6s-correcao-atmosferica/blob/main/Pratica2_principios_fisicos.ipynb\" target=\"_parent\"><img src=\"https://colab.research.google.com/assets/colab-badge.svg\" alt=\"Open In Colab\"/></a>"
      ]
    },
    {
      "cell_type": "markdown",
      "source": [
        "# 🌍 Correção Atmosférica com Py6S\n",
        "\n",
        "📌 Este material foi elaborado com base na aula ministrada pelos instrutores **Rejane Paulino**, **Daniel Maciel** e **Natália Rudorff**, durante a disciplina **Princípios Físicos**, no curso de pós-graduação em Sensoriamento Remoto do **INPE** (Instituto Nacional de Pesquisas Espaciais).\n",
        "\n",
        "## 📘 Conteúdo\n",
        "\n",
        "O notebook `Pratica_de_princípios_2.ipynb` apresenta:\n",
        "\n",
        "- ✨ Conceitos fundamentais de correção atmosférica.\n",
        "- 🛰️ Introdução ao modelo 6S.\n",
        "- 🧪 Utilização da biblioteca Py6S para simulação atmosférica.\n",
        "- 📉 Conversão de reflectância no topo da atmosfera (TOA) para reflectância de superfície.\n",
        "- 💻 Exemplos com código Python e aplicação com parâmetros reais.\n",
        "\n",
        "⚠️ Importante: O Py6S depende do executável do modelo 6S, que precisa ser instalado separadamente.\n",
        "\n",
        "## 📎 Referências\n",
        "Vermote, E., Tanré, D., Deuzé, J. L., Herman, M., & Morcette, J. J. (1997). Second Simulation of the Satellite Signal in the Solar Spectrum (6S).\n",
        "\n",
        "---\n",
        "Versão adaptada para Colab por **Henrique Leão** \\\n",
        "Doutorando em Sensoriamento Remoto - INPE \\\n",
        "GitHub: @Liaons\n",
        "[Repositório no GitHub](https://github.com/Liaons/py6s-correcao-atmosferica)"
      ],
      "metadata": {
        "id": "qBAHOvUxMCgl"
      }
    },
    {
      "cell_type": "markdown",
      "source": [
        "# Montando o ambiente Py6s"
      ],
      "metadata": {
        "id": "Sta-AtdNKgXJ"
      }
    },
    {
      "cell_type": "code",
      "execution_count": 1,
      "metadata": {
        "colab": {
          "base_uri": "https://localhost:8080/"
        },
        "id": "EPmv1cor3Io7",
        "outputId": "038af774-592c-4780-e85c-321685c1681a"
      },
      "outputs": [
        {
          "output_type": "stream",
          "name": "stdout",
          "text": [
            "\u001b[?25l     \u001b[90m━━━━━━━━━━━━━━━━━━━━━━━━━━━━━━━━━━━━━━━━\u001b[0m \u001b[32m0.0/80.2 kB\u001b[0m \u001b[31m?\u001b[0m eta \u001b[36m-:--:--\u001b[0m\r\u001b[2K     \u001b[90m━━━━━━━━━━━━━━━━━━━━━━━━━━━━━━━━━━━━━━━━\u001b[0m \u001b[32m80.2/80.2 kB\u001b[0m \u001b[31m2.2 MB/s\u001b[0m eta \u001b[36m0:00:00\u001b[0m\n",
            "\u001b[?25h  Installing build dependencies ... \u001b[?25l\u001b[?25hdone\n",
            "  Getting requirements to build wheel ... \u001b[?25l\u001b[?25hdone\n",
            "  Preparing metadata (pyproject.toml) ... \u001b[?25l\u001b[?25hdone\n",
            "\u001b[2K   \u001b[90m━━━━━━━━━━━━━━━━━━━━━━━━━━━━━━━━━━━━━━━━\u001b[0m \u001b[32m46.9/46.9 kB\u001b[0m \u001b[31m3.0 MB/s\u001b[0m eta \u001b[36m0:00:00\u001b[0m\n",
            "\u001b[?25h  Building wheel for py6s (pyproject.toml) ... \u001b[?25l\u001b[?25hdone\n",
            "Reading package lists...\n",
            "Building dependency tree...\n",
            "Reading state information...\n",
            "gfortran is already the newest version (4:11.2.0-1ubuntu1).\n",
            "libgfortran5 is already the newest version (12.3.0-1ubuntu1~22.04).\n",
            "libgfortran5 set to manually installed.\n",
            "0 upgraded, 0 newly installed, 0 to remove and 34 not upgraded.\n",
            "info/files\n",
            "info/paths.json\n",
            "info/hash_input.json\n",
            "info/index.json\n",
            "info/about.json\n",
            "info/git\n",
            "bin/sixs\n",
            "info/recipe/no_ffpe-summary.patch\n",
            "info/recipe/meta.yaml.template\n",
            "info/recipe/conda_build_config.yaml\n",
            "info/recipe/meta.yaml\n",
            "info/test/Example_In_1.txt\n",
            "info/recipe/Example_In_1.txt\n",
            "info/test/Example_In_3.txt\n",
            "info/recipe/Example_In_3.txt\n",
            "info/licenses/LICENSE.md\n",
            "info/recipe/run_test.sh\n",
            "info/test/run_test.sh\n",
            "info/recipe/build.sh\n",
            "info/recipe/run_test.bat\n",
            "info/recipe/bld.bat\n"
          ]
        }
      ],
      "source": [
        "!pip install py6s -q\n",
        "!apt install gfortran libgfortran5 -q\n",
        "!wget https://anaconda.org/conda-forge/sixs/1.1.3/download/linux-64/sixs-1.1.3-h2cc385e_2.tar.bz2 -q\n",
        "!tar -xvf sixs-1.1.3-h2cc385e_2.tar.bz2\n",
        "!rm sixs-1.1.3-h2cc385e_2.tar.bz2\n",
        "!chmod +x bin/sixs\n",
        "!ln bin/sixs /usr/local/bin/sixs"
      ]
    },
    {
      "cell_type": "code",
      "source": [
        "# Bibliotecas\n",
        "\n",
        "from Py6S import *\n",
        "import numpy as np\n",
        "import pandas as pd\n",
        "import glob\n",
        "from osgeo import gdal\n",
        "gdal.UseExceptions()\n",
        "import matplotlib.pyplot as plt\n",
        "import os"
      ],
      "metadata": {
        "id": "o7pibTNQLBYI"
      },
      "execution_count": 2,
      "outputs": []
    },
    {
      "cell_type": "markdown",
      "source": [
        "# Correção atmosférica"
      ],
      "metadata": {
        "id": "wvcbUbU_3xyo"
      }
    },
    {
      "cell_type": "code",
      "source": [
        "# Variaveis de Entrada:\n",
        "# Para acessar as variáveis de entrada da sua área, sigo o tutorial do link:\n",
        "# https://github.com/Liaons/py6s-correcao-atmosferica/blob/main/parametros_atmosfericos-GEE.pdf\n",
        "\n",
        "# Atmosfera + alvo:\n",
        "AOD550 = 0.144 # Medida adquirida de satélite, MODIS\n",
        "Altitude = 0.74 # km\n",
        "\n",
        "# Imagem:\n",
        "dia = 30\n",
        "mes = 4\n",
        "Geometria_solar_AZ = 38.2830765110842\n",
        "Geometria_solar_Zn = 41.8757812678998\n",
        "Geometria_sensor_AZ = 101.5\n",
        "Geometria_sensor_Zn = 6.03"
      ],
      "metadata": {
        "id": "ZMQBMxfy3upF"
      },
      "execution_count": 12,
      "outputs": []
    },
    {
      "cell_type": "code",
      "source": [
        "# Com o 6SV:\n",
        "# Define a classe SixS() -> classe principal do 6SV, ela permite a config. de paramteros, executar e acessar as saidas do 6SV:\n",
        "\n",
        "s = SixS()"
      ],
      "metadata": {
        "id": "j_Ns-Tog3wpq"
      },
      "execution_count": 4,
      "outputs": []
    },
    {
      "cell_type": "code",
      "source": [
        "# Definindo os parametros do 6SV:\n",
        "\n",
        "# Perfil atmosferico:\n",
        "s.atmos_profile = AtmosProfile.PredefinedType(AtmosProfile.Tropical)\n",
        "\n",
        "# Tipos pre-definidos: Sub-Arctic Winter, Mid-Latitude Winte, U.S. Standart, Sub-Arctic Summer, Mid-Latitude Summer, Tropical\n",
        "# Esses modelos sao padroes derivados do MODITRAN (http://modtran.spectral.com/static/modtran6/html/help_atmosphere_model.html?v=3)\n",
        "# Escolher um desses parametros significa definifir os valores de vapor d'agua e temperatura do ar esperados para a imagem.\n",
        "\n",
        "#s.atmos_profile = py6s.AtmosProfile.UserWaterAndOzone(water_vapour, ozone)"
      ],
      "metadata": {
        "id": "dFd7yERi32q8"
      },
      "execution_count": 5,
      "outputs": []
    },
    {
      "cell_type": "code",
      "source": [
        "# Carga optica do aerossol and Perfil/Modelo do aerossol:\n",
        "\n",
        "s.aot550 = AOD550\n",
        "s.aero_profile = AeroProfile.PredefinedType(AeroProfile.Continental) # relativo a distribuicao e composicao fisico-quimica do aerosol na atmosfera;\n",
        "\n",
        "# Tipos de modelos predefinidos: Continental, Maritime, Urban, Desert, Biomass, Stratospheric.\n",
        "# s.aero_profile = AeroProfile.User(soot = 0.1, water = 0.3, oceanic = 0.05, dust = 0.55) # baseado na mistura de quatro components: dust, oceanic, water-soluble, and soot."
      ],
      "metadata": {
        "id": "t40zcqOc34kZ"
      },
      "execution_count": 6,
      "outputs": []
    },
    {
      "cell_type": "code",
      "source": [
        "# Geometrias de iluminacao (solar) e visada (sensor):\n",
        "\n",
        "s.geometry = Geometry.User()\n",
        "s.geometry.day = dia\n",
        "s.geometry.month = mes\n",
        "s.geometry.solar_z = Geometria_solar_Zn\n",
        "s.geometry.solar_a = Geometria_solar_AZ\n",
        "s.geometry.view_z = Geometria_sensor_Zn\n",
        "s.geometry.view_a = Geometria_sensor_AZ"
      ],
      "metadata": {
        "id": "Ive5_Gll36eT"
      },
      "execution_count": 7,
      "outputs": []
    },
    {
      "cell_type": "code",
      "source": [
        "# Altitude:\n",
        "\n",
        "s.altitudes = Altitudes()\n",
        "s.altitudes.set_sensor_satellite_level()  # nivel do sensor;\n",
        "s.altitudes.set_target_custom_altitude(Altitude)  # nivel do alvo (em km)."
      ],
      "metadata": {
        "id": "jY2Xb5iF39MX"
      },
      "execution_count": 8,
      "outputs": []
    },
    {
      "cell_type": "code",
      "source": [
        "# Configurar os comprimentos de ondas das bandas espectrais:\n",
        "\n",
        "# Interpolacao da Funcao de Resposta Espectral:\n",
        "def interpolar_bandas(rsr, band_number: int, range_w: list) -> dict:\n",
        "    output = {}\n",
        "    bands = ['B01', 'B02', 'B03', 'B04', 'B05', 'B06', 'B07', 'B08', 'B8A', 'B09', 'B10', 'B11', 'B12']\n",
        "    for i in range(1, band_number + 1):\n",
        "        filter_ = rsr.loc[rsr['id'] == i]\n",
        "        w_min_ = np.min(filter_['wavelength'])\n",
        "        w_max_ = np.max(filter_['wavelength'])\n",
        "        wavelength_ = [np.around(w, 3) for w in np.arange(w_min_, w_max_, 0.001)]\n",
        "        wavelength_int = [np.around(w, 3) for w in np.arange(range_w[0], range_w[1], 0.001)]\n",
        "        wavelength_sub = list(set(wavelength_int) - set(wavelength_))\n",
        "        df_ = pd.DataFrame({'wavelength': wavelength_sub, 'rsr': int(0), 'band': str(i)})\n",
        "        df_ = pd.concat([filter_, df_]).sort_values(by=['wavelength'], ascending=True)\n",
        "        d_select = df_['rsr'].to_list()\n",
        "        wavelength_interp = [np.around(w, 4) for w in np.arange(range_w[0], range_w[1], 0.0025)]\n",
        "        norm = np.interp(wavelength_interp, df_['wavelength'].to_list(), d_select).tolist()\n",
        "        out_ = [norm, [i for i in wavelength_interp]]\n",
        "        output[bands[i - 1]] = out_\n",
        "    return output\n",
        "\n",
        "url = \"https://raw.githubusercontent.com/Liaons/py6s-correcao-atmosferica/main/auxiliar/rsr_S2B_MSI.txt\"\n",
        "rsr = pd.read_csv(url, sep='\\t', skiprows=5, names=['wavelength', 'rsr', 'band', 'id'])\n",
        "\n",
        "bandas = interpolar_bandas(rsr, 13, [0.411, 2.383])"
      ],
      "metadata": {
        "id": "mSfBkoKO3--0"
      },
      "execution_count": 9,
      "outputs": []
    },
    {
      "cell_type": "code",
      "source": [
        "# Modelagem atmosferica com o 6SV:\n",
        "atm_parametros = {}\n",
        "\n",
        "for i in ['B01', 'B02', 'B03', 'B04', 'B05', 'B06', 'B07', 'B08', 'B8A', 'B09', 'B10', 'B11', 'B12']:\n",
        "    s.wavelength = Wavelength(np.min(bandas[i][1]), np.max(bandas[i][1]), bandas[i][0]) # min comprimento de onda, max comp.onda, rsr (2.5 nm).\n",
        "    s.run()\n",
        "    atm_parametros[i] = {'tg_OG_co': float(s.outputs.transmittance_co.total),\n",
        "                         'tg_OG_c02': float(s.outputs.transmittance_co2.total),\n",
        "                         'tg_OG_o2': float(s.outputs.transmittance_oxygen.total),\n",
        "                         'tg_OG_no2': float(s.outputs.transmittance_no2.total),\n",
        "                         'tg_OG_ch4': float(s.outputs.transmittance_ch4.total),\n",
        "                         'Tg_O3': float(s.outputs.transmittance_ozone.total),\n",
        "                         'Tg_H20': float(s.outputs.transmittance_water.total),\n",
        "                         'T_upward': float(s.outputs.transmittance_total_scattering.upward),\n",
        "                         'T_downward': float(s.outputs.transmittance_total_scattering.downward),\n",
        "                         'p_atm': float(s.outputs.atmospheric_intrinsic_reflectance),\n",
        "                         's': float(s.outputs.spherical_albedo.total)}"
      ],
      "metadata": {
        "id": "XVxeXNBG4A4J"
      },
      "execution_count": 10,
      "outputs": []
    },
    {
      "cell_type": "code",
      "source": [
        "# Transmitancias:\n",
        "\n",
        "transm = []\n",
        "#atm = []\n",
        "for i in ['B01', 'B02', 'B03', 'B04', 'B05', 'B06', 'B07', 'B08', 'B8A', 'B09', 'B10', 'B11', 'B12']:\n",
        "    transm.append(atm_parametros[i]['T_upward'] * atm_parametros[i]['T_downward'])\n",
        "    #atm.append(atm_parametros[i]['p_atm'])\n",
        "\n",
        "\n",
        "plt.plot(['B01', 'B02', 'B03', 'B04', 'B05', 'B06', 'B07', 'B08', 'B8A', 'B09', 'B10', 'B11', 'B12'], transm, marker='o', linestyle='-')\n",
        "#plt.plot(['B01', 'B02', 'B03', 'B04', 'B05', 'B06', 'B07', 'B08', 'B8A', 'B09', 'B10', 'B11', 'B12'], atm, marker='o', linestyle='-')"
      ],
      "metadata": {
        "colab": {
          "base_uri": "https://localhost:8080/",
          "height": 448
        },
        "id": "hTrcEK3b4CtV",
        "outputId": "f0c38552-4cc4-4587-ef64-1c3bbdeecf89"
      },
      "execution_count": 11,
      "outputs": [
        {
          "output_type": "execute_result",
          "data": {
            "text/plain": [
              "[<matplotlib.lines.Line2D at 0x7a09a7bdab50>]"
            ]
          },
          "metadata": {},
          "execution_count": 11
        },
        {
          "output_type": "display_data",
          "data": {
            "text/plain": [
              "<Figure size 640x480 with 1 Axes>"
            ],
            "image/png": "[encoded data removed]"
          },
          "metadata": {}
        }
      ]
    },
    {
      "cell_type": "code",
      "source": [
        "# Correcao atmosferica:\n",
        "\n",
        "def salvar_imagem(array: float, index: str, reference: str, dest: str) -> None:\n",
        "\n",
        "    filename_reference = reference\n",
        "    filename_out_factor = dest + '/' + index[0:-4] + '.TIF'\n",
        "    dataset_reference = gdal.Open(filename_reference)\n",
        "\n",
        "    line = dataset_reference.RasterYSize\n",
        "    column = dataset_reference.RasterXSize\n",
        "    bands = 1\n",
        "\n",
        "    driver = gdal.GetDriverByName('GTiff')\n",
        "    data_type = gdal.GetDataTypeByName('Float32')\n",
        "    dataset_output = driver.Create(filename_out_factor, column, line, bands, data_type)\n",
        "    dataset_output.SetGeoTransform(dataset_reference.GetGeoTransform())\n",
        "    dataset_output.SetProjection(dataset_reference.GetProjectionRef())\n",
        "    dataset_output.GetRasterBand(1).WriteArray(array)\n",
        "    dataset_output=None\n",
        "    return None\n",
        "\n",
        "#Baixar imagem do zenodo e definir a pasta baixada como diretório\n",
        "dir_img = r'/content/drive/MyDrive/04 - Doutorado - INPE/Princípios Físicos/Pratica2/L1C_T23KMV_A037344_20240430T131241'\n",
        "\n",
        "os.makedirs('img_corrigida', exist_ok=True)\n",
        "\n",
        "for banda in atm_parametros:\n",
        "    img_id = [i for i in os.listdir(dir_img) if banda in i][0]\n",
        "    caminho_img = dir_img + '/' + img_id\n",
        "\n",
        "    # Conversao de DN para reflectancia TOA:\n",
        "    # Abrir imagens:\n",
        "    array = abrir_imagem(caminho_img)\n",
        "    QUANTIFICATION_VALUE = 10000\n",
        "    RADIO_ADD_OFFSET = -1000\n",
        "    ref_toa = (array + RADIO_ADD_OFFSET) / QUANTIFICATION_VALUE\n",
        "\n",
        "    # Correcao atmosferica -- Equacao de transferecia radiativa:\n",
        "    Tatm = atm_parametros[banda]['T_upward'] * atm_parametros[banda]['T_downward']\n",
        "    Tg = atm_parametros[banda]['tg_OG_co'] * atm_parametros[banda]['tg_OG_c02'] * atm_parametros[banda]['tg_OG_o2'] * atm_parametros[banda]['tg_OG_no2'] * atm_parametros[banda]['tg_OG_ch4']\n",
        "    Tg_O3 = atm_parametros[banda]['Tg_O3']\n",
        "    Tg_H20 = atm_parametros[banda]['Tg_H20']\n",
        "    p_atm = atm_parametros[banda]['p_atm']\n",
        "    s = atm_parametros[banda]['s']\n",
        "\n",
        "    A = ((ref_toa / (Tg * Tg_O3)) - p_atm) / (Tatm * Tg_H20)\n",
        "    ref_sup = A / (1 - (A * s))\n",
        "\n",
        "    salvar_imagem(ref_sup, img_id, caminho_img, r'img_corrigida')\n",
        "\n",
        "# https://sentinels.copernicus.eu/web/sentinel/technical-guides/sentinel-2-msi/level-1c/algorithm-overview#:~:text=Before%20storage%20inside%20L1C%20(in,computed%20TOA%20reflectance%20(%CF%81).&text=The%20L1C%20product's%20metadata%20includes,defined%20as%20a%20negative%20value."
      ],
      "metadata": {
        "id": "tf48nNpQ4Fhb"
      },
      "execution_count": null,
      "outputs": []
    },
    {
      "cell_type": "code",
      "source": [
        "def abrir_imagem(path: str):\n",
        "    dataset = gdal.Open(path)\n",
        "    return dataset.ReadAsArray().astype(float)\n",
        "\n",
        "# Plotando o histograma das imagens:\n",
        "r_toa = abrir_imagem(r'/content/drive/MyDrive/04 - Doutorado - INPE/Princípios Físicos/Pratica2/L1C_T23KMV_A037344_20240430T131241/T23KMV_20240430T131239_B08.TIF')\n",
        "r_toa = (r_toa + (-1000)) / 10000\n",
        "\n",
        "r_surperficie = abrir_imagem(r'/content/img_corrigida/T23KMV_20240430T131239_B08.TIF')\n",
        "\n",
        "plt.hist(r_toa.flatten(), bins=250, color='red', edgecolor=None)\n",
        "plt.hist(r_surperficie.flatten(), bins=250, color='green', edgecolor=None, alpha=0.75)\n",
        "plt.xlim(-0.05, 0.6)\n",
        "plt.show()\n",
        "\n",
        "# Verde os valores da imagem corrigida\n",
        "# Vermelho do imagem não corrigida"
      ],
      "metadata": {
        "colab": {
          "base_uri": "https://localhost:8080/",
          "height": 445
        },
        "id": "lw8jm6RA4HrN",
        "outputId": "b351f6d4-64da-4c91-dd68-7487ddbacefb"
      },
      "execution_count": null,
      "outputs": [
        {
          "output_type": "display_data",
          "data": {
            "text/plain": [
              "<Figure size 640x480 with 1 Axes>"
            ],
            "image/png": "[encoded data removed]"
          },
          "metadata": {}
        }
      ]
    }
  ]
}